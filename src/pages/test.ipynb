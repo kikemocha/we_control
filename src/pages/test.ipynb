{
 "cells": [
  {
   "cell_type": "code",
   "execution_count": 5,
   "metadata": {},
   "outputs": [
    {
     "name": "stdout",
     "output_type": "stream",
     "text": [
      "El token es válido: {'sub': '02b5b444-3051-70e0-d612-0901f4811c1a', 'email_verified': False, 'iss': 'https://cognito-idp.eu-west-1.amazonaws.com/eu-west-1_3s4LeILwO', 'cognito:username': '02b5b444-3051-70e0-d612-0901f4811c1a', 'origin_jti': '9b4c0555-aaa7-4072-b497-c7fabe69bd52', 'aud': '3p4sind7orh97u1urvh9fktpmr', 'event_id': 'e4e6586e-ab65-4da5-b090-d6b9c0d55faa', 'token_use': 'id', 'auth_time': 1725973910, 'name': 'wew', 'exp': 1725977510, 'custom:role': 'arn:aws:iam::749018078828:role/Empresa92312c0c-2bb5-41c3-b1ef-eFullAccessRole', 'iat': 1725973910, 'jti': '042089cf-c04f-42bf-a8fe-61e30e7bf52d', 'email': 'wecontrool@gmail.com'}\n"
     ]
    }
   ],
   "source": [
    "import jwt\n",
    "import requests\n",
    "from jwt.algorithms import RSAAlgorithm\n",
    "\n",
    "# URL del JWKS que contiene las claves públicas de Cognito\n",
    "jwks_url = 'https://cognito-idp.eu-west-1.amazonaws.com/eu-west-1_3s4LeILwO/.well-known/jwks.json'\n",
    "\n",
    "# Obtener las claves del JWKS\n",
    "response = requests.get(jwks_url)\n",
    "jwks = response.json()\n",
    "\n",
    "# El JWT que deseas verificar\n",
    "jwt_token = 'eyJraWQiOiJXVXFMR25cL05RQ25zZndzTTBoSFUwaEZqd09YWUJyNERDRjVLK0VNSnRlYz0iLCJhbGciOiJSUzI1NiJ9.eyJzdWIiOiIwMmI1YjQ0NC0zMDUxLTcwZTAtZDYxMi0wOTAxZjQ4MTFjMWEiLCJlbWFpbF92ZXJpZmllZCI6ZmFsc2UsImlzcyI6Imh0dHBzOlwvXC9jb2duaXRvLWlkcC5ldS13ZXN0LTEuYW1hem9uYXdzLmNvbVwvZXUtd2VzdC0xXzNzNExlSUx3TyIsImNvZ25pdG86dXNlcm5hbWUiOiIwMmI1YjQ0NC0zMDUxLTcwZTAtZDYxMi0wOTAxZjQ4MTFjMWEiLCJvcmlnaW5fanRpIjoiOWI0YzA1NTUtYWFhNy00MDcyLWI0OTctYzdmYWJlNjliZDUyIiwiYXVkIjoiM3A0c2luZDdvcmg5N3UxdXJ2aDlma3RwbXIiLCJldmVudF9pZCI6ImU0ZTY1ODZlLWFiNjUtNGRhNS1iMDkwLWQ2YjljMGQ1NWZhYSIsInRva2VuX3VzZSI6ImlkIiwiYXV0aF90aW1lIjoxNzI1OTczOTEwLCJuYW1lIjoid2V3IiwiZXhwIjoxNzI1OTc3NTEwLCJjdXN0b206cm9sZSI6ImFybjphd3M6aWFtOjo3NDkwMTgwNzg4Mjg6cm9sZVwvRW1wcmVzYTkyMzEyYzBjLTJiYjUtNDFjMy1iMWVmLWVGdWxsQWNjZXNzUm9sZSIsImlhdCI6MTcyNTk3MzkxMCwianRpIjoiMDQyMDg5Y2YtYzA0Zi00MmJmLWE4ZmUtNjFlMzBlN2JmNTJkIiwiZW1haWwiOiJ3ZWNvbnRyb29sQGdtYWlsLmNvbSJ9.cn7Qse2BG1Uix-Foy2avidA6E7xJO4B0JpBHABFrP-iMcC1XTCSkGlzRgdprdSNEd-6JEtOjhnYzBX40_AMyEDLR5sf0StFlmAaUXlJeyunNGafEfh-cO0iKz_U42TOowvmuFAk03NBYhsOtiyk-pnrpi1Otpav0ePsKMTeGIrOY_n8LlJG-QtpW2MjqtNvQNE06_YcI0aBxg5vbfaUnvv9WNr-xdfRXzBIqorliJ_daj8YM80SXiQwZ6LQb84EASl0x5TREKtoXyMCHmU57YsR1uewMK8YqeIJDciduwTGOVxIBcR5GDbojlccl3kYnLBF502Nm71HsTHODOGrj7Q'\n",
    "\n",
    "# Decodificar el JWT para obtener el \"kid\" del encabezado\n",
    "headers = jwt.get_unverified_header(jwt_token)\n",
    "kid = headers['kid']\n",
    "\n",
    "# Encontrar la clave pública correcta en el JWKS basada en el 'kid'\n",
    "public_key = None\n",
    "for key in jwks['keys']:\n",
    "    if key['kid'] == kid:\n",
    "        public_key = RSAAlgorithm.from_jwk(key)\n",
    "        break\n",
    "\n",
    "if public_key:\n",
    "    try:\n",
    "        # Verificar y decodificar el JWT\n",
    "        decoded_token = jwt.decode(jwt_token, public_key, algorithms=['RS256'], audience='3p4sind7orh97u1urvh9fktpmr')\n",
    "        print(\"El token es válido:\", decoded_token)\n",
    "    except jwt.ExpiredSignatureError:\n",
    "        print(\"El token ha expirado\")\n",
    "    except jwt.InvalidTokenError:\n",
    "        print(\"El token no es válido\")\n",
    "else:\n",
    "    print(\"No se encontró la clave pública adecuada para verificar el token\")\n"
   ]
  }
 ],
 "metadata": {
  "kernelspec": {
   "display_name": "myenv",
   "language": "python",
   "name": "python3"
  },
  "language_info": {
   "codemirror_mode": {
    "name": "ipython",
    "version": 3
   },
   "file_extension": ".py",
   "mimetype": "text/x-python",
   "name": "python",
   "nbconvert_exporter": "python",
   "pygments_lexer": "ipython3",
   "version": "3.12.4"
  }
 },
 "nbformat": 4,
 "nbformat_minor": 2
}
